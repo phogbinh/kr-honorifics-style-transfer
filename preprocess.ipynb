{
 "cells": [
  {
   "cell_type": "markdown",
   "id": "451f469e",
   "metadata": {},
   "source": [
    "# Preprocess train data"
   ]
  },
  {
   "cell_type": "code",
   "execution_count": 1,
   "id": "eec646a5",
   "metadata": {},
   "outputs": [
    {
     "data": {
      "text/html": [
       "<div>\n",
       "<style scoped>\n",
       "    .dataframe tbody tr th:only-of-type {\n",
       "        vertical-align: middle;\n",
       "    }\n",
       "\n",
       "    .dataframe tbody tr th {\n",
       "        vertical-align: top;\n",
       "    }\n",
       "\n",
       "    .dataframe thead th {\n",
       "        text-align: right;\n",
       "    }\n",
       "</style>\n",
       "<table border=\"1\" class=\"dataframe\">\n",
       "  <thead>\n",
       "    <tr style=\"text-align: right;\">\n",
       "      <th></th>\n",
       "      <th>Q</th>\n",
       "      <th>A</th>\n",
       "      <th>label</th>\n",
       "    </tr>\n",
       "  </thead>\n",
       "  <tbody>\n",
       "    <tr>\n",
       "      <th>0</th>\n",
       "      <td>내일 반품할 노트북이 삼성인지 엘지인지 알려주세요</td>\n",
       "      <td>저기 내일 반품할 노트북이 삼성이니 엘지니</td>\n",
       "      <td>0</td>\n",
       "    </tr>\n",
       "    <tr>\n",
       "      <th>1</th>\n",
       "      <td>내일 삼성노트북을 반품할거에요 엘지노트북을 반품할거에요</td>\n",
       "      <td>야 내일 삼성노트북 반품할거냐 엘지노트북 반품할거냐</td>\n",
       "      <td>0</td>\n",
       "    </tr>\n",
       "    <tr>\n",
       "      <th>2</th>\n",
       "      <td>내일 삼성노트북이랑 엘지노트북 중에 어떤 노트북을 반품하는거에요</td>\n",
       "      <td>야 내일 삼성노트북이랑 엘지노트북 중에 어떤 노트북 반품하는거냐</td>\n",
       "      <td>0</td>\n",
       "    </tr>\n",
       "    <tr>\n",
       "      <th>3</th>\n",
       "      <td>혹시 내일 반품할 노트북이 삼성과 엘지 중에 무엇인지 아시나요</td>\n",
       "      <td>저기 내일 반품할 노트북이 삼성이랑 엘지 중에 뭔지 알고있니</td>\n",
       "      <td>0</td>\n",
       "    </tr>\n",
       "    <tr>\n",
       "      <th>4</th>\n",
       "      <td>내일 노트북 반품이 삼성노트북인지 엘지노트북인지 확인부탁드립니다</td>\n",
       "      <td>저기 내일 노트북 반품하는게 삼성건지 엘지건지 확인좀 해봐</td>\n",
       "      <td>0</td>\n",
       "    </tr>\n",
       "  </tbody>\n",
       "</table>\n",
       "</div>"
      ],
      "text/plain": [
       "                                     Q                                    A  \\\n",
       "0          내일 반품할 노트북이 삼성인지 엘지인지 알려주세요              저기 내일 반품할 노트북이 삼성이니 엘지니   \n",
       "1       내일 삼성노트북을 반품할거에요 엘지노트북을 반품할거에요         야 내일 삼성노트북 반품할거냐 엘지노트북 반품할거냐   \n",
       "2  내일 삼성노트북이랑 엘지노트북 중에 어떤 노트북을 반품하는거에요  야 내일 삼성노트북이랑 엘지노트북 중에 어떤 노트북 반품하는거냐   \n",
       "3   혹시 내일 반품할 노트북이 삼성과 엘지 중에 무엇인지 아시나요    저기 내일 반품할 노트북이 삼성이랑 엘지 중에 뭔지 알고있니   \n",
       "4  내일 노트북 반품이 삼성노트북인지 엘지노트북인지 확인부탁드립니다     저기 내일 노트북 반품하는게 삼성건지 엘지건지 확인좀 해봐   \n",
       "\n",
       "   label  \n",
       "0      0  \n",
       "1      0  \n",
       "2      0  \n",
       "3      0  \n",
       "4      0  "
      ]
     },
     "execution_count": 1,
     "metadata": {},
     "output_type": "execute_result"
    }
   ],
   "source": [
    "import pandas as pd\n",
    "\n",
    "df = pd.read_csv(\"data/style_train.txt\")\n",
    "df.head()"
   ]
  },
  {
   "cell_type": "code",
   "execution_count": 2,
   "id": "6021f0ce",
   "metadata": {},
   "outputs": [
    {
     "data": {
      "text/html": [
       "<div>\n",
       "<style scoped>\n",
       "    .dataframe tbody tr th:only-of-type {\n",
       "        vertical-align: middle;\n",
       "    }\n",
       "\n",
       "    .dataframe tbody tr th {\n",
       "        vertical-align: top;\n",
       "    }\n",
       "\n",
       "    .dataframe thead th {\n",
       "        text-align: right;\n",
       "    }\n",
       "</style>\n",
       "<table border=\"1\" class=\"dataframe\">\n",
       "  <thead>\n",
       "    <tr style=\"text-align: right;\">\n",
       "      <th></th>\n",
       "      <th>Q</th>\n",
       "      <th>A</th>\n",
       "    </tr>\n",
       "  </thead>\n",
       "  <tbody>\n",
       "    <tr>\n",
       "      <th>0</th>\n",
       "      <td>내일 반품할 노트북이 삼성인지 엘지인지 알려주세요</td>\n",
       "      <td>저기 내일 반품할 노트북이 삼성이니 엘지니</td>\n",
       "    </tr>\n",
       "    <tr>\n",
       "      <th>1</th>\n",
       "      <td>내일 삼성노트북을 반품할거에요 엘지노트북을 반품할거에요</td>\n",
       "      <td>야 내일 삼성노트북 반품할거냐 엘지노트북 반품할거냐</td>\n",
       "    </tr>\n",
       "    <tr>\n",
       "      <th>2</th>\n",
       "      <td>내일 삼성노트북이랑 엘지노트북 중에 어떤 노트북을 반품하는거에요</td>\n",
       "      <td>야 내일 삼성노트북이랑 엘지노트북 중에 어떤 노트북 반품하는거냐</td>\n",
       "    </tr>\n",
       "    <tr>\n",
       "      <th>3</th>\n",
       "      <td>혹시 내일 반품할 노트북이 삼성과 엘지 중에 무엇인지 아시나요</td>\n",
       "      <td>저기 내일 반품할 노트북이 삼성이랑 엘지 중에 뭔지 알고있니</td>\n",
       "    </tr>\n",
       "    <tr>\n",
       "      <th>4</th>\n",
       "      <td>내일 노트북 반품이 삼성노트북인지 엘지노트북인지 확인부탁드립니다</td>\n",
       "      <td>저기 내일 노트북 반품하는게 삼성건지 엘지건지 확인좀 해봐</td>\n",
       "    </tr>\n",
       "  </tbody>\n",
       "</table>\n",
       "</div>"
      ],
      "text/plain": [
       "                                     Q                                    A\n",
       "0          내일 반품할 노트북이 삼성인지 엘지인지 알려주세요              저기 내일 반품할 노트북이 삼성이니 엘지니\n",
       "1       내일 삼성노트북을 반품할거에요 엘지노트북을 반품할거에요         야 내일 삼성노트북 반품할거냐 엘지노트북 반품할거냐\n",
       "2  내일 삼성노트북이랑 엘지노트북 중에 어떤 노트북을 반품하는거에요  야 내일 삼성노트북이랑 엘지노트북 중에 어떤 노트북 반품하는거냐\n",
       "3   혹시 내일 반품할 노트북이 삼성과 엘지 중에 무엇인지 아시나요    저기 내일 반품할 노트북이 삼성이랑 엘지 중에 뭔지 알고있니\n",
       "4  내일 노트북 반품이 삼성노트북인지 엘지노트북인지 확인부탁드립니다     저기 내일 노트북 반품하는게 삼성건지 엘지건지 확인좀 해봐"
      ]
     },
     "execution_count": 2,
     "metadata": {},
     "output_type": "execute_result"
    }
   ],
   "source": [
    "df.drop(\"label\", axis=\"columns\", inplace=True)\n",
    "df.head()"
   ]
  },
  {
   "cell_type": "code",
   "execution_count": 3,
   "id": "4f8ac50e",
   "metadata": {},
   "outputs": [
    {
     "data": {
      "text/html": [
       "<div>\n",
       "<style scoped>\n",
       "    .dataframe tbody tr th:only-of-type {\n",
       "        vertical-align: middle;\n",
       "    }\n",
       "\n",
       "    .dataframe tbody tr th {\n",
       "        vertical-align: top;\n",
       "    }\n",
       "\n",
       "    .dataframe thead th {\n",
       "        text-align: right;\n",
       "    }\n",
       "</style>\n",
       "<table border=\"1\" class=\"dataframe\">\n",
       "  <thead>\n",
       "    <tr style=\"text-align: right;\">\n",
       "      <th></th>\n",
       "      <th>honorific</th>\n",
       "      <th>non-honorific</th>\n",
       "    </tr>\n",
       "  </thead>\n",
       "  <tbody>\n",
       "    <tr>\n",
       "      <th>0</th>\n",
       "      <td>내일 반품할 노트북이 삼성인지 엘지인지 알려주세요</td>\n",
       "      <td>저기 내일 반품할 노트북이 삼성이니 엘지니</td>\n",
       "    </tr>\n",
       "    <tr>\n",
       "      <th>1</th>\n",
       "      <td>내일 삼성노트북을 반품할거에요 엘지노트북을 반품할거에요</td>\n",
       "      <td>야 내일 삼성노트북 반품할거냐 엘지노트북 반품할거냐</td>\n",
       "    </tr>\n",
       "    <tr>\n",
       "      <th>2</th>\n",
       "      <td>내일 삼성노트북이랑 엘지노트북 중에 어떤 노트북을 반품하는거에요</td>\n",
       "      <td>야 내일 삼성노트북이랑 엘지노트북 중에 어떤 노트북 반품하는거냐</td>\n",
       "    </tr>\n",
       "    <tr>\n",
       "      <th>3</th>\n",
       "      <td>혹시 내일 반품할 노트북이 삼성과 엘지 중에 무엇인지 아시나요</td>\n",
       "      <td>저기 내일 반품할 노트북이 삼성이랑 엘지 중에 뭔지 알고있니</td>\n",
       "    </tr>\n",
       "    <tr>\n",
       "      <th>4</th>\n",
       "      <td>내일 노트북 반품이 삼성노트북인지 엘지노트북인지 확인부탁드립니다</td>\n",
       "      <td>저기 내일 노트북 반품하는게 삼성건지 엘지건지 확인좀 해봐</td>\n",
       "    </tr>\n",
       "  </tbody>\n",
       "</table>\n",
       "</div>"
      ],
      "text/plain": [
       "                             honorific                        non-honorific\n",
       "0          내일 반품할 노트북이 삼성인지 엘지인지 알려주세요              저기 내일 반품할 노트북이 삼성이니 엘지니\n",
       "1       내일 삼성노트북을 반품할거에요 엘지노트북을 반품할거에요         야 내일 삼성노트북 반품할거냐 엘지노트북 반품할거냐\n",
       "2  내일 삼성노트북이랑 엘지노트북 중에 어떤 노트북을 반품하는거에요  야 내일 삼성노트북이랑 엘지노트북 중에 어떤 노트북 반품하는거냐\n",
       "3   혹시 내일 반품할 노트북이 삼성과 엘지 중에 무엇인지 아시나요    저기 내일 반품할 노트북이 삼성이랑 엘지 중에 뭔지 알고있니\n",
       "4  내일 노트북 반품이 삼성노트북인지 엘지노트북인지 확인부탁드립니다     저기 내일 노트북 반품하는게 삼성건지 엘지건지 확인좀 해봐"
      ]
     },
     "execution_count": 3,
     "metadata": {},
     "output_type": "execute_result"
    }
   ],
   "source": [
    "df.rename(columns={\"Q\": \"honorific\", \"A\": \"non-honorific\"}, inplace=True)\n",
    "df.head()"
   ]
  },
  {
   "cell_type": "code",
   "execution_count": 4,
   "id": "617b4c5b",
   "metadata": {},
   "outputs": [],
   "source": [
    "df.to_csv(\"train.csv\", index=False)"
   ]
  },
  {
   "cell_type": "markdown",
   "id": "ede3937d",
   "metadata": {},
   "source": [
    "# Preprocess evaluation and test data"
   ]
  },
  {
   "cell_type": "code",
   "execution_count": 5,
   "id": "766ab31f",
   "metadata": {},
   "outputs": [],
   "source": [
    "def preprocess(input_filepath, output_filepath):\n",
    "  df = pd.read_csv(input_filepath)\n",
    "  df.drop(\"label\", axis=\"columns\", inplace=True)\n",
    "  df.rename(columns={\"Q\": \"honorific\", \"A\": \"non-honorific\"}, inplace=True)\n",
    "  df.to_csv(output_filepath, index=False)\n",
    "\n",
    "preprocess(\"data/style_eval.txt\", \"eval.csv\")\n",
    "preprocess(\"data/style_test.txt\", \"test.csv\")"
   ]
  }
 ],
 "metadata": {
  "kernelspec": {
   "display_name": "Python 3 (ipykernel)",
   "language": "python",
   "name": "python3"
  },
  "language_info": {
   "codemirror_mode": {
    "name": "ipython",
    "version": 3
   },
   "file_extension": ".py",
   "mimetype": "text/x-python",
   "name": "python",
   "nbconvert_exporter": "python",
   "pygments_lexer": "ipython3",
   "version": "3.8.15"
  }
 },
 "nbformat": 4,
 "nbformat_minor": 5
}
